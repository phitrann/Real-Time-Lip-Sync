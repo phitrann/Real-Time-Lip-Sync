{
 "cells": [
  {
   "cell_type": "code",
   "execution_count": 20,
   "metadata": {
    "metadata": {}
   },
   "outputs": [
    {
     "name": "stdout",
     "output_type": "stream",
     "text": [
      "Lip-synced video saved as output_video.mp4\n"
     ]
    }
   ],
   "source": [
    "# import requests\n",
    "# import os\n",
    "# import cv2\n",
    "# import numpy as np\n",
    "\n",
    "# os.environ[\"no_proxy\"] = \"localhost,172.16.87.75\"\n",
    "\n",
    "# # API endpoint\n",
    "# url = \"http://localhost:8000/lip_sync\"\n",
    "\n",
    "# # Prepare the data\n",
    "# try:\n",
    "#     video_file = open('data/video/sun.mp4', 'rb')\n",
    "#     audio_file = open('data/audio/sun.wav', 'rb')\n",
    "# except FileNotFoundError as e:\n",
    "#     print(f\"Error: {e}\")\n",
    "#     exit(1)\n",
    "\n",
    "# files = {\n",
    "#     'video': ('sun.mp4', video_file, 'video/mp4'),\n",
    "#     'audio': ('sun.wav', audio_file, 'audio/wav'),\n",
    "# }\n",
    "\n",
    "# data = {\n",
    "#     'avatar_id': 'avator_1',\n",
    "#     'fps': 25,\n",
    "#     'batch_size': 4\n",
    "# }\n",
    "\n",
    "# try:\n",
    "#     # Send the POST request\n",
    "#     response = requests.post(url, files=files, data=data, stream=True)\n",
    "\n",
    "#     # Output video path\n",
    "#     output_video_path = 'output_video.mp4'\n",
    "\n",
    "#     # Check if the request was successful\n",
    "#     if response.status_code == 200:\n",
    "#         # Create a video writer (adjust codec and parameters as needed)\n",
    "#         fourcc = cv2.VideoWriter_fourcc(*'mp4v')  # Use 'XVID' for .avi\n",
    "#         out = None \n",
    "\n",
    "#         # Create a bytes buffer for the image data\n",
    "#         bytes_buffer = bytes()\n",
    "\n",
    "#         for chunk in response.iter_content(chunk_size=1024):\n",
    "#             if chunk:\n",
    "#                 bytes_buffer += chunk\n",
    "#                 a = bytes_buffer.find(b'\\xff\\xd8')  # JPEG start\n",
    "#                 b = bytes_buffer.find(b'\\xff\\xd9')  # JPEG end\n",
    "#                 if a != -1 and b != -1:\n",
    "#                     jpg = bytes_buffer[a:b+2]\n",
    "#                     bytes_buffer = bytes_buffer[b+2:]\n",
    "#                     frame = cv2.imdecode(np.frombuffer(jpg, dtype=np.uint8), cv2.IMREAD_COLOR)\n",
    "                    \n",
    "#                     # Initialize the video writer with frame size\n",
    "#                     if out is None and frame is not None:\n",
    "#                         height, width, _ = frame.shape\n",
    "#                         out = cv2.VideoWriter(output_video_path, fourcc, data['fps'], (width, height))\n",
    "\n",
    "#                     # Write the frame to the video writer\n",
    "#                     if out is not None:\n",
    "#                         out.write(frame)\n",
    "\n",
    "#         # Release the video writer\n",
    "#         if out is not None:\n",
    "#             out.release()\n",
    "\n",
    "#         print(f\"Lip-synced video saved as {output_video_path}\")\n",
    "#     else:\n",
    "#         print(f\"Error: {response.status_code}\")\n",
    "#         print(response.text)\n",
    "# finally:\n",
    "#     # Close the files\n",
    "#     video_file.close()\n",
    "#     audio_file.close()"
   ]
  },
  {
   "cell_type": "code",
   "execution_count": 3,
   "metadata": {
    "metadata": {}
   },
   "outputs": [
    {
     "name": "stdout",
     "output_type": "stream",
     "text": [
      "Server is enabled: {'message': 'server enabled'}\n",
      "Generated digital human video: {'user_id': 'user123', 'request_id': 'req234', 'digital_human_mp4_path': '/space/hotel/phit/personal/rtlipsync/results/avatars/vid_output/req234.mp4'}\n"
     ]
    }
   ],
   "source": [
    "import os\n",
    "import requests\n",
    "\n",
    "# Define the FastAPI server URL\n",
    "base_url = \"http://localhost:8000\"\n",
    "\n",
    "os.environ[\"no_proxy\"] = \"localhost,172.16.87.75\"\n",
    "\n",
    "# 1. Check Server Status\n",
    "response = requests.get(f\"{base_url}/digital_human/check\")\n",
    "if response.status_code == 200:\n",
    "    print(\"Server is enabled:\", response.json())\n",
    "\n",
    "# 2. Make a POST request to /digital_human/gen\n",
    "digital_human_data = {\n",
    "    \"user_id\": \"user123\",\n",
    "    \"request_id\": \"req123\",\n",
    "    \"streamer_id\": \"1\",\n",
    "    \"tts_path\": \"./data/audio/elon.wav\",\n",
    "    \"chunk_id\": 0\n",
    "}\n",
    "\n",
    "response = requests.post(f\"{base_url}/digital_human/gen\", json=digital_human_data)\n",
    "if response.status_code == 200:\n",
    "    print(\"Generated digital human video:\", response.json())\n",
    "else:\n",
    "    print(\"Failed to generate digital human:\", response.text)\n",
    "\n",
    "# # 3. Make a POST request to /digital_human/preprocess\n",
    "# preprocess_data = {\n",
    "#     \"user_id\": \"user123\",\n",
    "#     \"request_id\": \"req123\",\n",
    "#     \"streamer_id\": \"streamer1\",\n",
    "#     \"video_path\": \"/path/to/video.mp4\"\n",
    "# }\n",
    "\n",
    "# response = requests.post(f\"{base_url}/digital_human/preprocess\", json=preprocess_data)\n",
    "# if response.status_code == 200:\n",
    "#     print(\"Preprocessing complete:\", response.json())\n",
    "# else:\n",
    "#     print(\"Failed to preprocess video:\", response.text)\n"
   ]
  },
  {
   "cell_type": "markdown",
   "metadata": {},
   "source": [
    "Take 11m29s to solve this problem."
   ]
  },
  {
   "cell_type": "code",
   "execution_count": 4,
   "metadata": {
    "metadata": {}
   },
   "outputs": [
    {
     "name": "stdout",
     "output_type": "stream",
     "text": [
      "Server is enabled: {'message': 'server enabled'}\n",
      "Generated digital human video: {'user_id': 'user123', 'request_id': 'req345', 'digital_human_mp4_path': '/space/hotel/phit/personal/rtlipsync/results/avatars/vid_output/req345.mp4'}\n"
     ]
    }
   ],
   "source": [
    "import os\n",
    "import requests\n",
    "\n",
    "# Define the FastAPI server URL\n",
    "base_url = \"http://localhost:8000\"\n",
    "\n",
    "os.environ[\"no_proxy\"] = \"localhost,172.16.87.75\"\n",
    "\n",
    "# 1. Check Server Status\n",
    "response = requests.get(f\"{base_url}/digital_human/check\")\n",
    "if response.status_code == 200:\n",
    "    print(\"Server is enabled:\", response.json())\n",
    "\n",
    "# 2. Make a POST request to /digital_human/gen\n",
    "digital_human_data = {\n",
    "    \"user_id\": \"user123\",\n",
    "    \"request_id\": \"req345\",\n",
    "    \"streamer_id\": \"1\",\n",
    "    \"tts_path\": \"./data/audio/elon.wav\",\n",
    "    \"chunk_id\": 0\n",
    "}\n",
    "\n",
    "response = requests.post(f\"{base_url}/digital_human/gen\", json=digital_human_data)\n",
    "if response.status_code == 200:\n",
    "    print(\"Generated digital human video:\", response.json())\n",
    "else:\n",
    "    print(\"Failed to generate digital human:\", response.text)\n",
    "\n",
    "# # 3. Make a POST request to /digital_human/preprocess\n",
    "# preprocess_data = {\n",
    "#     \"user_id\": \"user123\",\n",
    "#     \"request_id\": \"req123\",\n",
    "#     \"streamer_id\": \"streamer1\",\n",
    "#     \"video_path\": \"/path/to/video.mp4\"\n",
    "# }\n",
    "\n",
    "# response = requests.post(f\"{base_url}/digital_human/preprocess\", json=preprocess_data)\n",
    "# if response.status_code == 200:\n",
    "#     print(\"Preprocessing complete:\", response.json())\n",
    "# else:\n",
    "#     print(\"Failed to preprocess video:\", response.text)\n"
   ]
  }
 ],
 "metadata": {
  "kernelspec": {
   "display_name": "speech",
   "language": "python",
   "name": "python3"
  },
  "language_info": {
   "codemirror_mode": {
    "name": "ipython",
    "version": 3
   },
   "file_extension": ".py",
   "mimetype": "text/x-python",
   "name": "python",
   "nbconvert_exporter": "python",
   "pygments_lexer": "ipython3",
   "version": "3.10.14"
  }
 },
 "nbformat": 4,
 "nbformat_minor": 2
}

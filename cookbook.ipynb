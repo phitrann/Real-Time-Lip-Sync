{
 "cells": [
  {
   "cell_type": "code",
   "execution_count": 7,
   "metadata": {
    "metadata": {}
   },
   "outputs": [
    {
     "name": "stdout",
     "output_type": "stream",
     "text": [
      "Error: 500\n",
      "Internal Server Error\n"
     ]
    }
   ],
   "source": [
    "import requests\n",
    "import os\n",
    "\n",
    "os.environ[\"no_proxy\"] = \"localhost,172.16.87.75\"\n",
    "\n",
    "# API endpoint\n",
    "url = \"http://localhost:8000/lip_sync\"\n",
    "\n",
    "\n",
    "\n",
    "# Prepare the data\n",
    "files = {\n",
    "    'video': ('sun.mp4', open('data/video/sun.mp4', 'rb'), 'video/mp4'),\n",
    "    'audio': ('sun.wav', open('data/audio/sun.wav', 'rb'), 'audio/wav'),\n",
    "}\n",
    "\n",
    "data = {\n",
    "    'avatar_id': 'avator_1',\n",
    "    'fps': 25,\n",
    "    'batch_size': 4\n",
    "}\n",
    "\n",
    "# Send the POST request\n",
    "response = requests.post(url, files=files, data=data, stream=True)\n",
    "\n",
    "# Check if the request was successful\n",
    "if response.status_code == 200:\n",
    "    # The response is a stream of JPEG images\n",
    "    # You can process them as they come or save them to a file\n",
    "    with open('output_video.mp4', 'wb') as f:\n",
    "        for chunk in response.iter_content(chunk_size=8192):\n",
    "            f.write(chunk)\n",
    "    print(\"Lip-synced video saved as output_video.mp4\")\n",
    "else:\n",
    "    print(f\"Error: {response.status_code}\")\n",
    "    print(response.text)"
   ]
  }
 ],
 "metadata": {
  "kernelspec": {
   "display_name": "speech",
   "language": "python",
   "name": "python3"
  },
  "language_info": {
   "codemirror_mode": {
    "name": "ipython",
    "version": 3
   },
   "file_extension": ".py",
   "mimetype": "text/x-python",
   "name": "python",
   "nbconvert_exporter": "python",
   "pygments_lexer": "ipython3",
   "version": "3.10.14"
  }
 },
 "nbformat": 4,
 "nbformat_minor": 2
}
